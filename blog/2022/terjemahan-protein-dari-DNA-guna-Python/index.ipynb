{
  "cells": [
    {
      "cell_type": "raw",
      "metadata": {},
      "source": [
        "---\n",
        "draft: true\n",
        "title: \"Kaedah Menghasilkan Protein Dari Sejujuk DNA Guna Python\"\n",
        "subtitle: \"Aku cuba teroka bioinformatik asas bersama kawan aku yang cuba belajar Python\"\n",
        "date: \"2022-02-25\"\n",
        "categories: [\"pengaturcaraan Python\"]\n",
        "images: [\"DNA_1920_1080.jpg\"]\n",
        "authors: [\"Murthadza Aznam\"]\n",
        "jupyer: python3\n",
        "freeze: true\n",
        "---"
      ],
      "id": "293e39c4"
    },
    {
      "cell_type": "markdown",
      "metadata": {},
      "source": [
        "Aku bukanlah orang dalam bidang biologi, tapi aku rasa elok kalau aku kongsikan apa yang aku sudah belajar.\n",
        "Pada pertengahan tahun lepas, aku ada ajar seorang kawan aku pengaturcaraan Python.\n",
        "Memandangkan dia adalah orang dari bidang biologi, kita sama-sama belajar menterjemah DNA menjadi protein berdasarkan [siri tutorial yang telah disediakan oleh saluran YouTube RebelCoder](https://www.youtube.com/playlist?list=PLpSOMAcxEB_jUKMvdl8rHqNiZXFIrtd5G).\n",
        "\n",
        "## Dogma Pusat Biologi Molekul\n",
        "\n",
        "Dogma pusat ialah satu set penjelasan aliran maklumat genetik dalam sistem biologi.\n",
        "Salah satunya ialah aliran bagaimana DNA boleh menghasilkan rantaian protein yang membentuk kehidupan.\n",
        "Secara ringkasnya, DNA menghasilkan RNA melalui proses transkripsi kemudian RNA akan menghasilkan protein melalui proses penterjemahan.\n",
        "\n",
        "Walaupun dogma pusat mengatakan protein dihasilkan daripada RNA, kita boleh langkau langkah ini kerana bentuk RNA sama sahaja seperti DNA kecuali bes timina (T) DNA diganti dengan bes urasil (U) RNA.\n",
        "Oleh itu, pengabaian langkah ini tidak akan menjejaskan hasil akhir protein bagi tujuan kita.\n",
        "\n",
        "Rumusan dogma pusat boleh didapati dalam video ini oleh Coretan Biologi:\n",
        "\n",
        "\n",
        "{{< video https://www.youtube.com/embed/mTHzTsgpiSc >}}\n",
        "\n",
        "\n",
        "\n",
        "## Pertama: Sediakan Pasangan Pemadanan\n",
        "\n",
        "Setiap asid amino dalam protein merupakah hasil bacaan satu set tiga bes serangkai yang dinamakan kodon.\n",
        "Oleh itu, kita perlu beritahu kod kita kodon apa akan hasilkan asid apa.\n",
        "Kita sediakan satu `dict` dengan nilai berikut:\n"
      ],
      "id": "d5c0c079"
    },
    {
      "cell_type": "code",
      "metadata": {},
      "source": [
        "DNA_Codons_Mapping: dict = {\n",
        "    \"GCT\": \"A\", \"GCC\": \"A\", \"GCA\": \"A\", \"GCG\": \"A\",\n",
        "    \"TGT\": \"C\", \"TGC\": \"C\",\n",
        "    \"GAT\": \"D\", \"GAC\": \"D\",\n",
        "    \"GAA\": \"E\", \"GAG\": \"E\",\n",
        "    \"TTT\": \"F\", \"TTC\": \"F\",\n",
        "    \"GGT\": \"G\", \"GGC\": \"G\", \"GGA\": \"G\", \"GGG\": \"G\",\n",
        "    \"CAT\": \"H\", \"CAC\": \"H\",\n",
        "    \"ATA\": \"I\", \"ATT\": \"I\", \"ATC\": \"I\",\n",
        "    \"AAA\": \"K\", \"AAG\": \"K\",\n",
        "    \"TTA\": \"L\", \"TTG\": \"L\", \"CTT\": \"L\", \"CTC\": \"L\", \"CTA\": \"L\", \"CTG\": \"L\",\n",
        "    \"ATG\": \"M\", # Kodon pemula\n",
        "    \"AAT\": \"N\", \"AAC\": \"N\",\n",
        "    \"CCT\": \"P\", \"CCC\": \"P\", \"CCA\": \"P\", \"CCG\": \"P\",\n",
        "    \"CAA\": \"Q\", \"CAG\": \"Q\",\n",
        "    \"CGT\": \"R\", \"CGC\": \"R\", \"CGA\": \"R\", \"CGG\": \"R\", \"AGA\": \"R\", \"AGG\": \"R\",\n",
        "    \"TCT\": \"S\", \"TCC\": \"S\", \"TCA\": \"S\", \"TCG\": \"S\", \"AGT\": \"S\", \"AGC\": \"S\",\n",
        "    \"ACT\": \"T\", \"ACC\": \"T\", \"ACA\": \"T\", \"ACG\": \"T\",\n",
        "    \"GTT\": \"V\", \"GTC\": \"V\", \"GTA\": \"V\", \"GTG\": \"V\",\n",
        "    \"TGG\": \"W\",\n",
        "    \"TAT\": \"Y\", \"TAC\": \"Y\",\n",
        "    \"TAA\": \"_\", \"TAG\": \"_\", \"TGA\": \"_\" # Kodon berhenti\n",
        "}"
      ],
      "id": "0c880086",
      "execution_count": null,
      "outputs": []
    },
    {
      "cell_type": "markdown",
      "metadata": {},
      "source": [
        "Pemetaan ini memberitahu kita bahawa jujukan bes `\"GCT\"` akan menghasilkan asid `A` dan seterusnya.\n",
        "Setiap asid diwakili oleh satu huruf yang merujuk kepada huruf pertama nama asid tersebut.\n",
        "Kodon yang berbeza boleh menghasilkan asid yang sama.\n",
        "\n",
        "Perlulah kita ketahui akan dua huruf penting yang aku nyalakan dalam kod di atas.\n",
        "Huruf pertama ialah huruf `M` yang merujuk kepada asid metionina yang dihasilkan oleh kodon `\"ATG\"`.\n",
        "Kodon ini dinamakan \"kodon pemula\" kerana ia mengisytiharkan permulaan rantaian asid amino.\n",
        "\n",
        "Huruf kedua pula ialah huruf `_` yang dihasilkan oleh tiga kodon berbeza.\n",
        "Kodon-kodon ini pula merupakan \"kodon berhenti\": ia memberitahu agar pembinaan rantaian asid perlu berhenti.\n",
        "Ia tidak mewakili apa-apa asid, maka simbol `_` dipilih.\n",
        "\n",
        "Secara ringkasnya, rantaian asid amino tidak akan dihasilkan selagi mana kodon pemula tidak dijumpai.\n",
        "Kemudian, rantaian itu akan diputuskan ketika bertemu dengan kodon berhenti.\n",
        "Hasil rantaian itulah protein makhluk tersebut.\n",
        "\n",
        "## Sampingan: Pengesahan Jujukan DNA\n",
        "\n",
        "Langkah ini bukanlah satu kewajipan, tatepi ia bantu melancarkan algoritma kita supaya kita tak masukkan input yang tak sah.\n",
        "Kita gunakan langkah ini untuk memastikan jujukan huruf yang dimasukkan itu adalah jujukan DNA yang sah.\n",
        "Bila dah melalui pengesahan ini, kita boleh yakin yang tidak ada set huruf yang pelik seperti `ABC` yang akan mengeluarkan ralat kerana tiada padanan langsung.\n",
        "\n",
        "Untuk pastikan jujukan kita hanya mempunyai huruf-huruf yang dibenarkan sahaja, kita boleh siapkan satu `tuple` bes-bes DNA dan semak keahlian huruf-huruf dalam jujukan input.\n",
        "Kita guna `tuple` dan bukan `list` sebab kita nak elakkan kesilapan penambahan huruf yang tidak disengajakan.\n",
        "Disebabkan `tuple` tidak membenarkan penambahan ahli, maka ia adalah calon yang baik.\n"
      ],
      "id": "b9e2e670"
    },
    {
      "cell_type": "code",
      "metadata": {},
      "source": [
        "DNA_Bases: tuple = (\"A\", \"C\", \"G\", \"T\")"
      ],
      "id": "7297c70a",
      "execution_count": null,
      "outputs": []
    },
    {
      "cell_type": "markdown",
      "metadata": {},
      "source": [
        "Kemudian, kita sediakan fungsi `validate_sequence()` yang akan memunculkan ralat sekiranya inputnya tidak sah.\n",
        "Perkara sedekimian boleh dicapai dengan mengambil setiap huruf dalam `dna_seq` dan `raise ValueError` sekiranya huruf tersebut tiada dalam `tuple` yang disediakan.\n",
        "Sekiranya, ia bertemu dengan huruf yang tidak sah, `raise ValueError` akan menghentikan program.\n"
      ],
      "id": "a3d91924"
    },
    {
      "cell_type": "code",
      "metadata": {},
      "source": [
        "from structures import DNA_Bases\n",
        "\n",
        "def validate_sequence(dna_seq: str) -> str:\n",
        "    \"\"\"Semak sama ada input adalah jujukan DNA adalah sah\"\"\"\n",
        "    check_seq = dna_seq.upper()\n",
        "    for nuc in check_seq:\n",
        "        if nuc not in DNA_Bases:\n",
        "            raise ValueError(f\"Jujukan tidak sah. `{nuc}` bukan ahli {DNA_Bases=}\")\n",
        "    return check_seq"
      ],
      "id": "9962b290",
      "execution_count": null,
      "outputs": []
    },
    {
      "cell_type": "markdown",
      "metadata": {},
      "source": [
        "## Kedua: Proses Terjemahan\n",
        "\n",
        "Sekarang ini, kita perlu beritahu komputer supaya dapatkan tiga bes serangkai, pastu padankan dengan asid menggunakan pemetaan `DNA_Codons_Mapping` yang kita dah sediakan sebelum ini.\n",
        "Namun begitu, perlu ditegaskan bahawa pembacaan huruf tidak semestinya bermula dari huruf pertama.\n",
        "Misalnya, katalah kita ada jujukan `ABCDEF`, pembacaan boleh mula dari `A`, `B`, `C`, `D` atau seterusnya.\n",
        "Oleh itu, kita sediakan satu pembolehubah kedudukan awal `init_pos` dengan nilai asal `0` yang kita boleh tentukan kemudian.\n"
      ],
      "id": "0e2b53ef"
    },
    {
      "cell_type": "code",
      "metadata": {},
      "source": [
        "from structures import DNA_Codons_Mapping\n",
        "\n",
        "def make_translation(dna_seq: str, init_pos: int = 0) -> list:\n",
        "    \"\"\"Menterjemahkan jujukan input menjadi senarai asid amino\"\"\"\n",
        "    acids = list()\n",
        "    # Lelaran akan melangkau setiap tiga huruf sebab itulah panjang satu kodon\n",
        "    for pos in range(init_pos, len(dna_seq) - 2, 3):\n",
        "        codon = dna_seq[pos:pos + 3]\n",
        "        acids.append(DNA_Codons_Mapping[codon])\n",
        "    return acids"
      ],
      "id": "ce7ddd24",
      "execution_count": null,
      "outputs": []
    },
    {
      "cell_type": "markdown",
      "metadata": {},
      "source": [
        "Fungsi ini akan memulangkan senarai asid kerana memang itulah yang kita mahukan.\n",
        "\n",
        "## Ketiga: Semua Kemungkinan Senarai Asid\n",
        "\n",
        "Untuk setiap jujukan DNA, ada enam kemungkinan senarai asid yang boleh dihasilkan.\n",
        "Hal ini kerana setiap kodon boleh mula dibaca dari mana-mana tiga huruf dalam jujukan tersebut.\n",
        "Perkara ini menghasilkan 3 kemungkinan.\n",
        "Tambahan pula, jujukan DNA tersebut ada pasangannya, maka pasangannya juga akan menghasilkan 3 kemungkinan senarai asidnya yang tersendiri.\n",
        "Maka, jumlahnya ialah 6 kemungkinan.\n",
        "\n",
        "Nampaknya bacaan kodon yang berbeza permulaannya dipanggil \"[rangka bacaan](https://www.ncbi.nlm.nih.gov/Class/MLACourse/Original8Hour/Genetics/readingframe.html)\".\n",
        "\n",
        "<Example>\n",
        "    \n",
        "Katakan ada jujukan DNA `GATTAGCCAGATTAC`, boleh jadi kodonnya adalah begini:\n",
        "1. [GAT][TAG][CCA][GAT][TAC] &larr; Jujukan input\n",
        "2. G[ATT][AGC][CAG][ATT]AC\n",
        "3. GA[TTA][GCC][AGA][TTA]C\n",
        "4. [CTA][ATC][GGT][CTA][ATG] &larr; Jujukan pasangan\n",
        "5. C[TAA][TCG][GTC][TAA]TG\n",
        "6. CT[AAT][CGG][TCT][AAT]G\n",
        "\n",
        "</Example>\n",
        "\n",
        "Apa yang kita perlu buat ialah panggil fungsi yang sama berulang kali dengan `init_pos` yang berbeza.\n",
        "Selain itu, kita juga perlu ada satu fungsi yang akan hasilkan pasangan jujukan input.\n"
      ],
      "id": "b86f805f"
    },
    {
      "cell_type": "code",
      "metadata": {},
      "source": [
        "from typing import List # Membolehkan kita nyatakan jenis isi dalam `List`\n",
        "\n",
        "def make_complement(dna_seq: str) -> str:\n",
        "    \"\"\"Menghasilkan pasangan jujukan yang melekat bersama dengan jujukan input\"\"\"\n",
        "    mapping = str.maketrans('ATGC', 'TACG')\n",
        "    return dna_seq.translate(mapping)\n",
        "\n",
        "def make_reverse_complement(dna_seq: str) -> str:\n",
        "    \"\"\"Menterbalikkan pasangan jujukan (sebab pasangannya dibaca berlawanan arah)\"\"\"\n",
        "    return make_complement(dna_seq)[::-1]\n",
        "\n",
        "def make_reading_frames(dna_seq: str) -> List[List[str]]:\n",
        "    \"\"\"Menghasilkan kesemua enam (6) rangka bacaan daripada jujukan bes DNA yang diberikan.\"\"\"\n",
        "    frames = []\n",
        "    frames.append(make_translation(dna_seq, 0))\n",
        "    frames.append(make_translation(dna_seq, 1))\n",
        "    frames.append(make_translation(dna_seq, 2))\n",
        "    frames.append(make_translation(make_reverse_complement(dna_seq), 0))\n",
        "    frames.append(make_translation(make_reverse_complement(dna_seq), 1))\n",
        "    frames.append(make_translation(make_reverse_complement(dna_seq), 2))\n",
        "    return frames"
      ],
      "id": "1c572e81",
      "execution_count": null,
      "outputs": []
    },
    {
      "cell_type": "markdown",
      "metadata": {},
      "source": [
        "## Keempat: Mencari Kodon Mula dan Kodon berhenti\n",
        "\n",
        "Kita perlu sediakan arahan supaya:\n",
        "\n",
        "1. Jika ia adalah kodon berhenti, `_`, maka hentikan rantaian jika wujud.\n",
        "2. Jika ia adalah asid dari kodon mula, `M`, maka mulakan rantaian.\n",
        "3. Jika ia adalah asid biasa, maka sambung rantaian jika wujud ataupun langkau jika tiada rantaian.\n"
      ],
      "id": "be422a62"
    },
    {
      "cell_type": "code",
      "metadata": {},
      "source": [
        "def make_proteins_from_one_reading_frame(amino_acid_seq: list) -> list:\n",
        "    \"\"\"Menghasilkan calon protein dengan mengenal pasti kodon pemula dan kodon berhenti\"\"\"\n",
        "    current_protein = []\n",
        "    proteins = []\n",
        "    for amino_acid in amino_acid_seq:\n",
        "        if amino_acid == \"_\":\n",
        "            # Hentikan rantain\n",
        "            if current_protein:\n",
        "                # Dapatkan rantaian jika wujud\n",
        "                for p in current_protein:\n",
        "                    proteins.append(p)\n",
        "                current_protein = []\n",
        "        else:\n",
        "            if amino_acid == \"M\":\n",
        "                # Mulakan rantaian\n",
        "                current_protein.append(\"\")\n",
        "            for i in range(len(current_protein)):\n",
        "                # Operasi ini tidak akan buat apa-apa kalau tiada `\"\"` yang dihasilkan oleh syarat sebelum ini\n",
        "                current_protein[i] += amino_acid\n",
        "    return proteins"
      ],
      "id": "da245a78",
      "execution_count": null,
      "outputs": []
    },
    {
      "cell_type": "markdown",
      "metadata": {},
      "source": [
        "Kemudian, kita boleh dapatkan semua protein yang mungkin dihasilkan oleh jujukan DNA serta pasangannya.\n"
      ],
      "id": "6aac2215"
    },
    {
      "cell_type": "code",
      "metadata": {},
      "source": [
        "def make_proteins_from_all_reading_frames(dna_seq: str, ordered=False) -> List[str]:\n",
        "    \"\"\"Menghasilkan calon protein daripada semua rangka bacaan yang dihasilkan dari sejujuk DNA\"\"\"\n",
        "    frames = make_reading_frames(dna_seq)\n",
        "\n",
        "    potential_proteins = []\n",
        "    for frame in frames:\n",
        "        proteins = make_proteins_from_one_reading_frame(frame)\n",
        "        for p in proteins:\n",
        "            potential_proteins.append(p)\n",
        "\n",
        "    # Susun supaya yang paling panjang berada di atas\n",
        "    if ordered:\n",
        "        potential_proteins = sorted(potential_proteins, key=len, reverse=True)\n",
        "\n",
        "    return potential_proteins"
      ],
      "id": "b930a241",
      "execution_count": null,
      "outputs": []
    },
    {
      "cell_type": "markdown",
      "metadata": {},
      "source": [
        "## Penentusahan\n",
        "\n",
        "Semestinya, kalau kita ada model, kita perlu tentusahkannya sama ada ia berfungsi atau tidak.\n",
        "Kita boleh lakukan sedemikian dengan cuba memadankannya dengan pangkalan data yang diketahui.\n",
        "Satu contoh pangkalan data yang boleh cuba digunakan ialah pangkalan data _National Center for Biotechnology Information_ (NCBI).\n",
        "\n",
        "<!-- TODO run satu contoh -->\n",
        "\n",
        "Kita ambil satu contoh data insulin homo sapiens [`NM_001185097.2`](https://www.ncbi.nlm.nih.gov/nuccore/NM_001185097.2) (Pergi ke pautan FASTA untuk dapatkan jujukan DNAnya).\n",
        "Algoritma aku menghasilkan senarai ini:\n",
        "\n",
        "\n",
        "```{bash}\n",
        "MALWMRLLPLLALLALWGPDPAAAFVNQHLCGSHLVEALYLVCGERGFFYTPKTRREAEDLQVGQVELGGGPGAGSLQPLALEGSLQKRGIVEQCCTSICSLYQLENYCN\n",
        "MRLLPLLALLALWGPDPAAAFVNQHLCGSHLVEALYLVCGERGFFYTPKTRREAEDLQVGQVELGGGPGAGSLQPLALEGSLQKRGIVEQCCTSICSLYQLENYCN\n",
        "MLVQHCSTMPRFCRDPSRAKGCRLPAPGPPPSSTCPTCRSSASRRVLGV\n",
        "MPRFCRDPSRAKGCRLPAPGPPPSSTCPTCRSSASRRVLGV\n",
        "MAEGQ\n",
        "ME\n",
        "```\n",
        "\n",
        "\n",
        "Kalau dibandingkan dengan maklumat `\\translation` yang ada pada pautan tersebut, ternyata ia padan dengan rantaian pertama hasil algoritma aku.\n",
        "Cubalah buat sendiri dan cuba padankannya dengan data lain.\n",
        "Kod-kod yang ditulis ada disediakan dalam [repositori GitHub](https://github.com/Thaza-Kun/Algoritma-Terjemahan-Protein/tree/arkib).\n",
        "Bolehlah gunakannya sebagai rujukan."
      ],
      "id": "c50fd39b"
    }
  ],
  "metadata": {
    "kernelspec": {
      "name": "python3",
      "language": "python",
      "display_name": "Python 3 (ipykernel)"
    }
  },
  "nbformat": 4,
  "nbformat_minor": 5
}